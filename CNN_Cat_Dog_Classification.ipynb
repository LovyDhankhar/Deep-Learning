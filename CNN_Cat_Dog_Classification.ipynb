{
 "cells": [
  {
   "cell_type": "code",
   "execution_count": 1,
   "id": "639a6e73",
   "metadata": {},
   "outputs": [],
   "source": [
    "# pip install tensorflow\n"
   ]
  },
  {
   "cell_type": "code",
   "execution_count": 2,
   "id": "ce0f2c88",
   "metadata": {},
   "outputs": [],
   "source": [
    "import tensorflow as tf\n",
    "from keras.preprocessing.image import ImageDataGenerator"
   ]
  },
  {
   "cell_type": "code",
   "execution_count": 3,
   "id": "a078a31a",
   "metadata": {},
   "outputs": [
    {
     "data": {
      "text/plain": [
       "'2.9.0'"
      ]
     },
     "execution_count": 3,
     "metadata": {},
     "output_type": "execute_result"
    }
   ],
   "source": [
    "tf.__version__"
   ]
  },
  {
   "cell_type": "code",
   "execution_count": 5,
   "id": "2a5eab68",
   "metadata": {},
   "outputs": [
    {
     "name": "stdout",
     "output_type": "stream",
     "text": [
      "Found 8000 images belonging to 2 classes.\n"
     ]
    }
   ],
   "source": [
    "train_datagen = ImageDataGenerator(rescale = 1./255,\n",
    "                                   shear_range = 0.2,\n",
    "                                   zoom_range = 0.2,\n",
    "                                   horizontal_flip = True)\n",
    "training_set = train_datagen.flow_from_directory('C:\\\\Users\\\\Lovy Dhankhar\\\\Desktop\\\\DLNLP\\\\CNN Dataset\\\\training_set',\n",
    "                                                 target_size = (64, 64),\n",
    "                                                 batch_size = 32,\n",
    "                                                 class_mode = 'binary')"
   ]
  },
  {
   "cell_type": "markdown",
   "id": "50ac068f",
   "metadata": {},
   "source": [
    "### Preprocessing Test Data"
   ]
  },
  {
   "cell_type": "code",
   "execution_count": 6,
   "id": "7fe25de0",
   "metadata": {},
   "outputs": [
    {
     "name": "stdout",
     "output_type": "stream",
     "text": [
      "Found 2000 images belonging to 2 classes.\n"
     ]
    }
   ],
   "source": [
    "test_datagen = ImageDataGenerator(rescale = 1./255)\n",
    "test_set = test_datagen.flow_from_directory('C:\\\\Users\\\\Lovy Dhankhar\\\\Desktop\\\\DLNLP\\\\CNN Dataset\\\\test_set',\n",
    "                                            target_size = (64, 64),\n",
    "                                            batch_size = 32,\n",
    "                                            class_mode = 'binary')"
   ]
  },
  {
   "cell_type": "markdown",
   "id": "5e43f235",
   "metadata": {},
   "source": [
    "# Part 2 - Building the CNN\n",
    "## Initialising the CNN"
   ]
  },
  {
   "cell_type": "code",
   "execution_count": 7,
   "id": "37513cd4",
   "metadata": {},
   "outputs": [],
   "source": [
    "cnn = tf.keras.models.Sequential()"
   ]
  },
  {
   "cell_type": "markdown",
   "id": "9b5c0670",
   "metadata": {},
   "source": [
    "### Step 1 - Convolution"
   ]
  },
  {
   "cell_type": "code",
   "execution_count": 8,
   "id": "1912f891",
   "metadata": {},
   "outputs": [],
   "source": [
    "cnn.add(tf.keras.layers.Conv2D(filters=32, kernel_size=3, activation='relu', input_shape=[64, 64, 3]))"
   ]
  },
  {
   "cell_type": "markdown",
   "id": "57e94f54",
   "metadata": {},
   "source": [
    "### Step 2 - Pooling"
   ]
  },
  {
   "cell_type": "code",
   "execution_count": 9,
   "id": "82e83298",
   "metadata": {},
   "outputs": [],
   "source": [
    "cnn.add(tf.keras.layers.MaxPool2D(pool_size=2, strides=2))"
   ]
  },
  {
   "cell_type": "markdown",
   "id": "af20aec2",
   "metadata": {},
   "source": [
    "### Adding second convolutional layer "
   ]
  },
  {
   "cell_type": "code",
   "execution_count": 10,
   "id": "5d49c895",
   "metadata": {},
   "outputs": [],
   "source": [
    "cnn.add(tf.keras.layers.Conv2D(filters=32, kernel_size=3, activation='relu'))\n",
    "cnn.add(tf.keras.layers.MaxPool2D(pool_size=2, strides=2))"
   ]
  },
  {
   "cell_type": "markdown",
   "id": "a4cc8292",
   "metadata": {},
   "source": [
    "### Step 3 - Flattening "
   ]
  },
  {
   "cell_type": "code",
   "execution_count": 11,
   "id": "d855b169",
   "metadata": {},
   "outputs": [],
   "source": [
    "cnn.add(tf.keras.layers.Flatten())"
   ]
  },
  {
   "cell_type": "markdown",
   "id": "5bcb7591",
   "metadata": {},
   "source": [
    "### Step 4 - Full Connection "
   ]
  },
  {
   "cell_type": "code",
   "execution_count": 12,
   "id": "ff4c2653",
   "metadata": {},
   "outputs": [],
   "source": [
    "cnn.add(tf.keras.layers.Dense(units=128, activation='relu'))"
   ]
  },
  {
   "cell_type": "markdown",
   "id": "3afa0d8c",
   "metadata": {},
   "source": [
    "### Step 5 - Output Layer "
   ]
  },
  {
   "cell_type": "code",
   "execution_count": 13,
   "id": "27d93b20",
   "metadata": {},
   "outputs": [],
   "source": [
    "cnn.add(tf.keras.layers.Dense(units=1, activation='sigmoid'))"
   ]
  },
  {
   "cell_type": "markdown",
   "id": "919f425b",
   "metadata": {},
   "source": [
    "# Part 3 - Training the CNN\n",
    "### Compiling the CNN"
   ]
  },
  {
   "cell_type": "code",
   "execution_count": 14,
   "id": "4e655d82",
   "metadata": {},
   "outputs": [],
   "source": [
    "cnn.compile(optimizer = 'adam', loss = 'binary_crossentropy', metrics = ['accuracy'])"
   ]
  },
  {
   "cell_type": "markdown",
   "id": "f3e5b3a1",
   "metadata": {},
   "source": [
    "### Training the CNN on the Training set and evaluating it on the Test set "
   ]
  },
  {
   "cell_type": "code",
   "execution_count": 15,
   "id": "08cd6254",
   "metadata": {},
   "outputs": [
    {
     "name": "stdout",
     "output_type": "stream",
     "text": [
      "Epoch 1/25\n",
      "250/250 [==============================] - 42s 166ms/step - loss: 0.6734 - accuracy: 0.5885 - val_loss: 0.5939 - val_accuracy: 0.6925\n",
      "Epoch 2/25\n",
      "250/250 [==============================] - 36s 143ms/step - loss: 0.5994 - accuracy: 0.6799 - val_loss: 0.5516 - val_accuracy: 0.7250\n",
      "Epoch 3/25\n",
      "250/250 [==============================] - 27s 106ms/step - loss: 0.5659 - accuracy: 0.7053 - val_loss: 0.5286 - val_accuracy: 0.7320\n",
      "Epoch 4/25\n",
      "250/250 [==============================] - 26s 103ms/step - loss: 0.5291 - accuracy: 0.7311 - val_loss: 0.5455 - val_accuracy: 0.7385\n",
      "Epoch 5/25\n",
      "250/250 [==============================] - 26s 105ms/step - loss: 0.5135 - accuracy: 0.7450 - val_loss: 0.5138 - val_accuracy: 0.7475\n",
      "Epoch 6/25\n",
      "250/250 [==============================] - 27s 107ms/step - loss: 0.4910 - accuracy: 0.7621 - val_loss: 0.5070 - val_accuracy: 0.7680\n",
      "Epoch 7/25\n",
      "250/250 [==============================] - 27s 106ms/step - loss: 0.4785 - accuracy: 0.7695 - val_loss: 0.4830 - val_accuracy: 0.7795\n",
      "Epoch 8/25\n",
      "250/250 [==============================] - 28s 112ms/step - loss: 0.4694 - accuracy: 0.7740 - val_loss: 0.4685 - val_accuracy: 0.7855\n",
      "Epoch 9/25\n",
      "250/250 [==============================] - 27s 106ms/step - loss: 0.4486 - accuracy: 0.7881 - val_loss: 0.4849 - val_accuracy: 0.7690\n",
      "Epoch 10/25\n",
      "250/250 [==============================] - 27s 107ms/step - loss: 0.4375 - accuracy: 0.7937 - val_loss: 0.4573 - val_accuracy: 0.7905\n",
      "Epoch 11/25\n",
      "250/250 [==============================] - 27s 107ms/step - loss: 0.4307 - accuracy: 0.7981 - val_loss: 0.4559 - val_accuracy: 0.7800\n",
      "Epoch 12/25\n",
      "250/250 [==============================] - 27s 107ms/step - loss: 0.4200 - accuracy: 0.8030 - val_loss: 0.5791 - val_accuracy: 0.7375\n",
      "Epoch 13/25\n",
      "250/250 [==============================] - 27s 106ms/step - loss: 0.4030 - accuracy: 0.8131 - val_loss: 0.4585 - val_accuracy: 0.7915\n",
      "Epoch 14/25\n",
      "250/250 [==============================] - 27s 107ms/step - loss: 0.3951 - accuracy: 0.8248 - val_loss: 0.5106 - val_accuracy: 0.7655\n",
      "Epoch 15/25\n",
      "250/250 [==============================] - 27s 107ms/step - loss: 0.3739 - accuracy: 0.8316 - val_loss: 0.4580 - val_accuracy: 0.7910\n",
      "Epoch 16/25\n",
      "250/250 [==============================] - 27s 108ms/step - loss: 0.3659 - accuracy: 0.8365 - val_loss: 0.5172 - val_accuracy: 0.7660\n",
      "Epoch 17/25\n",
      "250/250 [==============================] - 27s 106ms/step - loss: 0.3472 - accuracy: 0.8455 - val_loss: 0.4742 - val_accuracy: 0.7880\n",
      "Epoch 18/25\n",
      "250/250 [==============================] - 27s 107ms/step - loss: 0.3343 - accuracy: 0.8510 - val_loss: 0.5165 - val_accuracy: 0.7730\n",
      "Epoch 19/25\n",
      "250/250 [==============================] - 27s 107ms/step - loss: 0.3376 - accuracy: 0.8516 - val_loss: 0.4671 - val_accuracy: 0.7980\n",
      "Epoch 20/25\n",
      "250/250 [==============================] - 27s 106ms/step - loss: 0.3108 - accuracy: 0.8656 - val_loss: 0.5171 - val_accuracy: 0.7825\n",
      "Epoch 21/25\n",
      "250/250 [==============================] - 27s 107ms/step - loss: 0.2965 - accuracy: 0.8716 - val_loss: 0.4997 - val_accuracy: 0.7935\n",
      "Epoch 22/25\n",
      "250/250 [==============================] - 27s 109ms/step - loss: 0.2933 - accuracy: 0.8725 - val_loss: 0.5321 - val_accuracy: 0.7780\n",
      "Epoch 23/25\n",
      "250/250 [==============================] - 26s 105ms/step - loss: 0.2805 - accuracy: 0.8805 - val_loss: 0.5082 - val_accuracy: 0.7880\n",
      "Epoch 24/25\n",
      "250/250 [==============================] - 25s 102ms/step - loss: 0.2668 - accuracy: 0.8870 - val_loss: 0.5496 - val_accuracy: 0.7800\n",
      "Epoch 25/25\n",
      "250/250 [==============================] - 26s 102ms/step - loss: 0.2508 - accuracy: 0.8956 - val_loss: 0.5240 - val_accuracy: 0.7975\n"
     ]
    },
    {
     "data": {
      "text/plain": [
       "<keras.callbacks.History at 0x1e473d03340>"
      ]
     },
     "execution_count": 15,
     "metadata": {},
     "output_type": "execute_result"
    }
   ],
   "source": [
    "cnn.fit(x = training_set, validation_data = test_set, epochs = 25)"
   ]
  },
  {
   "cell_type": "markdown",
   "id": "3be499dd",
   "metadata": {},
   "source": [
    "# Part 4 - Making a single prediction"
   ]
  },
  {
   "cell_type": "code",
   "execution_count": 16,
   "id": "aedcef8e",
   "metadata": {},
   "outputs": [
    {
     "name": "stdout",
     "output_type": "stream",
     "text": [
      "1/1 [==============================] - 2s 2s/step\n"
     ]
    }
   ],
   "source": [
    "import numpy as np\n",
    "from tensorflow.keras.preprocessing import image\n",
    "test_image = image.load_img('C:/Users/Lovy Dhankhar/Desktop/DLNLP/CNN Dataset/single_prediction/cat_or_dog_2.jpg', target_size = (64, 64))\n",
    "test_image = image.img_to_array(test_image)\n",
    "test_image = np.expand_dims(test_image, axis = 0)\n",
    "result = cnn.predict(test_image)\n",
    "training_set.class_indices\n",
    "if result[0][0] == 1:\n",
    "  prediction = 'dog'\n",
    "else:\n",
    "  prediction = 'cat'"
   ]
  },
  {
   "cell_type": "code",
   "execution_count": 17,
   "id": "33e65c86",
   "metadata": {},
   "outputs": [
    {
     "name": "stdout",
     "output_type": "stream",
     "text": [
      "dog\n"
     ]
    }
   ],
   "source": [
    "print(prediction)"
   ]
  },
  {
   "cell_type": "code",
   "execution_count": null,
   "id": "37aaa264",
   "metadata": {},
   "outputs": [],
   "source": []
  }
 ],
 "metadata": {
  "kernelspec": {
   "display_name": "Python 3",
   "language": "python",
   "name": "python3"
  },
  "language_info": {
   "codemirror_mode": {
    "name": "ipython",
    "version": 3
   },
   "file_extension": ".py",
   "mimetype": "text/x-python",
   "name": "python",
   "nbconvert_exporter": "python",
   "pygments_lexer": "ipython3",
   "version": "3.8.8"
  }
 },
 "nbformat": 4,
 "nbformat_minor": 5
}
